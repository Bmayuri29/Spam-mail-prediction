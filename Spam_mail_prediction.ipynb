{
  "nbformat": 4,
  "nbformat_minor": 0,
  "metadata": {
    "colab": {
      "name": "Spam mail prediction.ipynb",
      "provenance": [],
      "authorship_tag": "ABX9TyO21eWAU7nl3haOBTrrXW5x",
      "include_colab_link": true
    },
    "kernelspec": {
      "name": "python3",
      "display_name": "Python 3"
    }
  },
  "cells": [
    {
      "cell_type": "markdown",
      "metadata": {
        "id": "view-in-github",
        "colab_type": "text"
      },
      "source": [
        "<a href=\"https://colab.research.google.com/github/Bmayuri29/Spam-mail-prediction/blob/main/Spam_mail_prediction.ipynb\" target=\"_parent\"><img src=\"https://colab.research.google.com/assets/colab-badge.svg\" alt=\"Open In Colab\"/></a>"
      ]
    },
    {
      "cell_type": "markdown",
      "metadata": {
        "id": "oib-jZ5CIkx4"
      },
      "source": [
        "Import Libraries"
      ]
    },
    {
      "cell_type": "code",
      "metadata": {
        "id": "Gdf7-mYKIpn0"
      },
      "source": [
        "import numpy as np\r\n",
        "import pandas as pd\r\n",
        "from sklearn.model_selection import train_test_split\r\n",
        "from sklearn.feature_extraction.text import TfidfVectorizer\r\n",
        "from sklearn.svm import LinearSVC\r\n",
        "from sklearn.metrics import accuracy_score"
      ],
      "execution_count": 1,
      "outputs": []
    },
    {
      "cell_type": "markdown",
      "metadata": {
        "id": "eUdnWgbdJX9O"
      },
      "source": [
        "Data Preprocessing"
      ]
    },
    {
      "cell_type": "code",
      "metadata": {
        "id": "PcXKF4TtLKVU"
      },
      "source": [
        "# load the dataset to pandas Data Frame\r\n",
        "raw_data=pd.read_csv('spamham.csv',encoding='latin-1')\r\n",
        "# replace the null values with a null string\r\n",
        "mail_data = raw_data.where((pd.notnull(raw_data)), '')"
      ],
      "execution_count": 22,
      "outputs": []
    },
    {
      "cell_type": "code",
      "metadata": {
        "colab": {
          "base_uri": "https://localhost:8080/"
        },
        "id": "gVbHznOWeQYA",
        "outputId": "3d2f0e00-523d-4b43-a909-d18f972db1e2"
      },
      "source": [
        "mail_data.shape"
      ],
      "execution_count": 27,
      "outputs": [
        {
          "output_type": "execute_result",
          "data": {
            "text/plain": [
              "(5572, 5)"
            ]
          },
          "metadata": {
            "tags": []
          },
          "execution_count": 27
        }
      ]
    },
    {
      "cell_type": "code",
      "metadata": {
        "colab": {
          "base_uri": "https://localhost:8080/",
          "height": 204
        },
        "id": "UdtmBwWkewZg",
        "outputId": "465b99b4-fe82-4634-c0d7-c7cb221ebb79"
      },
      "source": [
        "mail_data.head() #sample data"
      ],
      "execution_count": 28,
      "outputs": [
        {
          "output_type": "execute_result",
          "data": {
            "text/html": [
              "<div>\n",
              "<style scoped>\n",
              "    .dataframe tbody tr th:only-of-type {\n",
              "        vertical-align: middle;\n",
              "    }\n",
              "\n",
              "    .dataframe tbody tr th {\n",
              "        vertical-align: top;\n",
              "    }\n",
              "\n",
              "    .dataframe thead th {\n",
              "        text-align: right;\n",
              "    }\n",
              "</style>\n",
              "<table border=\"1\" class=\"dataframe\">\n",
              "  <thead>\n",
              "    <tr style=\"text-align: right;\">\n",
              "      <th></th>\n",
              "      <th>v1</th>\n",
              "      <th>v2</th>\n",
              "      <th>Unnamed: 2</th>\n",
              "      <th>Unnamed: 3</th>\n",
              "      <th>Unnamed: 4</th>\n",
              "    </tr>\n",
              "  </thead>\n",
              "  <tbody>\n",
              "    <tr>\n",
              "      <th>0</th>\n",
              "      <td>ham</td>\n",
              "      <td>Go until jurong point, crazy.. Available only ...</td>\n",
              "      <td></td>\n",
              "      <td></td>\n",
              "      <td></td>\n",
              "    </tr>\n",
              "    <tr>\n",
              "      <th>1</th>\n",
              "      <td>ham</td>\n",
              "      <td>Ok lar... Joking wif u oni...</td>\n",
              "      <td></td>\n",
              "      <td></td>\n",
              "      <td></td>\n",
              "    </tr>\n",
              "    <tr>\n",
              "      <th>2</th>\n",
              "      <td>spam</td>\n",
              "      <td>Free entry in 2 a wkly comp to win FA Cup fina...</td>\n",
              "      <td></td>\n",
              "      <td></td>\n",
              "      <td></td>\n",
              "    </tr>\n",
              "    <tr>\n",
              "      <th>3</th>\n",
              "      <td>ham</td>\n",
              "      <td>U dun say so early hor... U c already then say...</td>\n",
              "      <td></td>\n",
              "      <td></td>\n",
              "      <td></td>\n",
              "    </tr>\n",
              "    <tr>\n",
              "      <th>4</th>\n",
              "      <td>ham</td>\n",
              "      <td>Nah I don't think he goes to usf, he lives aro...</td>\n",
              "      <td></td>\n",
              "      <td></td>\n",
              "      <td></td>\n",
              "    </tr>\n",
              "  </tbody>\n",
              "</table>\n",
              "</div>"
            ],
            "text/plain": [
              "     v1  ... Unnamed: 4\n",
              "0   ham  ...           \n",
              "1   ham  ...           \n",
              "2  spam  ...           \n",
              "3   ham  ...           \n",
              "4   ham  ...           \n",
              "\n",
              "[5 rows x 5 columns]"
            ]
          },
          "metadata": {
            "tags": []
          },
          "execution_count": 28
        }
      ]
    },
    {
      "cell_type": "code",
      "metadata": {
        "id": "sQb08Jate7D4"
      },
      "source": [
        "# label spam mail as 0; non-spam mail as 1.\r\n",
        "mail_data.loc[mail_data['v1'] == 'spam','v1',] = 0\r\n",
        "mail_data.loc[mail_data['v1'] == 'ham','v1',] = 1"
      ],
      "execution_count": 38,
      "outputs": []
    },
    {
      "cell_type": "code",
      "metadata": {
        "id": "7iv-0jhZfzbe"
      },
      "source": [
        "# separate the data as text and label. X --> test; Y --> label\r\n",
        "X = mail_data['v2']\r\n",
        "Y = mail_data['v1']"
      ],
      "execution_count": 39,
      "outputs": []
    },
    {
      "cell_type": "code",
      "metadata": {
        "colab": {
          "base_uri": "https://localhost:8080/"
        },
        "id": "jD3SivqXh-Dl",
        "outputId": "97199ac3-6105-43b8-c765-bc56af865090"
      },
      "source": [
        "print(X)\r\n",
        "print('..............') \r\n",
        "print(Y)"
      ],
      "execution_count": 41,
      "outputs": [
        {
          "output_type": "stream",
          "text": [
            "0       Go until jurong point, crazy.. Available only ...\n",
            "1                           Ok lar... Joking wif u oni...\n",
            "2       Free entry in 2 a wkly comp to win FA Cup fina...\n",
            "3       U dun say so early hor... U c already then say...\n",
            "4       Nah I don't think he goes to usf, he lives aro...\n",
            "                              ...                        \n",
            "5567    This is the 2nd time we have tried 2 contact u...\n",
            "5568                Will Ì_ b going to esplanade fr home?\n",
            "5569    Pity, * was in mood for that. So...any other s...\n",
            "5570    The guy did some bitching but I acted like i'd...\n",
            "5571                           Rofl. Its true to its name\n",
            "Name: v2, Length: 5572, dtype: object\n",
            "..............\n",
            "0       1\n",
            "1       1\n",
            "2       0\n",
            "3       1\n",
            "4       1\n",
            "       ..\n",
            "5567    0\n",
            "5568    1\n",
            "5569    1\n",
            "5570    1\n",
            "5571    1\n",
            "Name: v1, Length: 5572, dtype: object\n"
          ],
          "name": "stdout"
        }
      ]
    },
    {
      "cell_type": "markdown",
      "metadata": {
        "id": "gCrNwE9ajgfi"
      },
      "source": [
        "Train Test Split"
      ]
    },
    {
      "cell_type": "code",
      "metadata": {
        "id": "VsjD24WSiP5n"
      },
      "source": [
        "# split the data as train data and test data\r\n",
        "X_train,X_test,Y_train,Y_test = train_test_split(X,Y,train_size=0.8,test_size=0.2,random_state=3)"
      ],
      "execution_count": 42,
      "outputs": []
    },
    {
      "cell_type": "markdown",
      "metadata": {
        "id": "T1wpWdKTkivA"
      },
      "source": [
        "Feature Extraction"
      ]
    },
    {
      "cell_type": "code",
      "metadata": {
        "id": "dHvtphnekgM9"
      },
      "source": [
        "# transforms the text data to feature vectors that can be used input to the SVM model using TfidfVectorizer\r\n",
        "# covert the text to lower case letters\r\n",
        "feature_extraction = TfidfVectorizer(min_df=1, stop_words='english', lowercase='True')\r\n",
        "X_train_features = feature_extraction.fit_transform(X_train)\r\n",
        "X_test_features = feature_extraction.transform(X_test)\r\n",
        "\r\n",
        "# convert Y_train and Y_test values as integers\r\n",
        "Y_train = Y_train.astype('int')\r\n",
        "Y_test = Y_test.astype('int')"
      ],
      "execution_count": 44,
      "outputs": []
    },
    {
      "cell_type": "markdown",
      "metadata": {
        "id": "tqQ7QhUs5A0q"
      },
      "source": [
        "Training the model --> **Support** **Vector** **Machine** "
      ]
    },
    {
      "cell_type": "code",
      "metadata": {
        "colab": {
          "base_uri": "https://localhost:8080/"
        },
        "id": "9kRguFxq4596",
        "outputId": "49e14b8c-4fe0-4298-efd0-8608ad182714"
      },
      "source": [
        "# training the support vector machine model with training data\r\n",
        "model = LinearSVC()\r\n",
        "model.fit(X_train_features, Y_train)"
      ],
      "execution_count": 45,
      "outputs": [
        {
          "output_type": "execute_result",
          "data": {
            "text/plain": [
              "LinearSVC(C=1.0, class_weight=None, dual=True, fit_intercept=True,\n",
              "          intercept_scaling=1, loss='squared_hinge', max_iter=1000,\n",
              "          multi_class='ovr', penalty='l2', random_state=None, tol=0.0001,\n",
              "          verbose=0)"
            ]
          },
          "metadata": {
            "tags": []
          },
          "execution_count": 45
        }
      ]
    },
    {
      "cell_type": "markdown",
      "metadata": {
        "id": "g3cEnOJ16oyt"
      },
      "source": [
        "Evaluation of the model"
      ]
    },
    {
      "cell_type": "code",
      "metadata": {
        "id": "jOb5fcnj6eAL"
      },
      "source": [
        "# prediction on training data\r\n",
        "prediction_on_training_data = model.predict(X_train_features)\r\n",
        "accuracy_on_training_data = accuracy_score(Y_train, prediction_on_training_data)"
      ],
      "execution_count": 46,
      "outputs": []
    },
    {
      "cell_type": "code",
      "metadata": {
        "colab": {
          "base_uri": "https://localhost:8080/"
        },
        "id": "LHmfezCv7PTx",
        "outputId": "f74edf97-ac84-4392-d4bc-c45395f46ea8"
      },
      "source": [
        "print ('Accuracy on training data : ', accuracy_on_training_data)"
      ],
      "execution_count": 49,
      "outputs": [
        {
          "output_type": "stream",
          "text": [
            "Accuracy on training data :  0.9995512676688355\n"
          ],
          "name": "stdout"
        }
      ]
    },
    {
      "cell_type": "code",
      "metadata": {
        "id": "IADPa8B67c8t"
      },
      "source": [
        "# prediction on test data\r\n",
        "prediction_on_test_data = model.predict(X_test_features)\r\n",
        "accuracy_on_test_data = accuracy_score(Y_test, prediction_on_test_data)"
      ],
      "execution_count": 50,
      "outputs": []
    },
    {
      "cell_type": "code",
      "metadata": {
        "colab": {
          "base_uri": "https://localhost:8080/"
        },
        "id": "sgLoOa6t8Igd",
        "outputId": "0749b05b-1f88-4111-e52f-8f6448cacc8d"
      },
      "source": [
        "print ('Accuracy on test data : ', accuracy_on_test_data)"
      ],
      "execution_count": 51,
      "outputs": [
        {
          "output_type": "stream",
          "text": [
            "Accuracy on test data :  0.9856502242152466\n"
          ],
          "name": "stdout"
        }
      ]
    },
    {
      "cell_type": "markdown",
      "metadata": {
        "id": "6HLGaeJx8lgS"
      },
      "source": [
        "Prediction on new mail"
      ]
    },
    {
      "cell_type": "code",
      "metadata": {
        "colab": {
          "base_uri": "https://localhost:8080/"
        },
        "id": "ZjlPFLZB8cP_",
        "outputId": "88278f39-55b4-4113-97cf-a214cc50459e"
      },
      "source": [
        "input_mail = [\"WINNER!! As a valued network customer you have been selected to receivea å£900 prize reward! To claim call 09061701461. Claim code KL341. Valid 12 hours only.,,\"]\r\n",
        "# convert text to feature vectors\r\n",
        "input_mail_features = feature_extraction.transform(input_mail)\r\n",
        "\r\n",
        "# making prediction \r\n",
        "prediction = model.predict(input_mail_features)\r\n",
        "print(prediction)\r\n",
        "\r\n",
        "if (prediction[0]==1):\r\n",
        "  print('HAM MAIL')\r\n",
        "else:\r\n",
        "  print('SPAM MAIL')"
      ],
      "execution_count": 52,
      "outputs": [
        {
          "output_type": "stream",
          "text": [
            "[0]\n",
            "SPAM MAIL\n"
          ],
          "name": "stdout"
        }
      ]
    },
    {
      "cell_type": "code",
      "metadata": {
        "colab": {
          "base_uri": "https://localhost:8080/"
        },
        "id": "oMybQRJL-kNi",
        "outputId": "91afa64c-13d6-44d0-92ab-75b83b527bc7"
      },
      "source": [
        "input_mail = [\"I've been searching for the right words to thank you for this breather. I promise i wont take your help for granted and will fulfil my promise. You have been wonderful and a blessing at all times.,,,\"]\r\n",
        "# convert text to feature vectors\r\n",
        "input_mail_features = feature_extraction.transform(input_mail)\r\n",
        "\r\n",
        "# making prediction \r\n",
        "prediction = model.predict(input_mail_features)\r\n",
        "print(prediction)\r\n",
        "\r\n",
        "if (prediction[0]==1):\r\n",
        "  print('HAM MAIL')\r\n",
        "else:\r\n",
        "  print('SPAM MAIL')"
      ],
      "execution_count": 53,
      "outputs": [
        {
          "output_type": "stream",
          "text": [
            "[1]\n",
            "HAM MAIL\n"
          ],
          "name": "stdout"
        }
      ]
    },
    {
      "cell_type": "code",
      "metadata": {
        "id": "BSmHVf2y-7Yd"
      },
      "source": [
        ""
      ],
      "execution_count": null,
      "outputs": []
    }
  ]
}